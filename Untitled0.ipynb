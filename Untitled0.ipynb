{
  "nbformat": 4,
  "nbformat_minor": 0,
  "metadata": {
    "colab": {
      "name": "Untitled0.ipynb",
      "provenance": [],
      "authorship_tag": "ABX9TyPYsLh7YwduiJE0ZAqZhOur",
      "include_colab_link": true
    },
    "kernelspec": {
      "name": "python3",
      "display_name": "Python 3"
    }
  },
  "cells": [
    {
      "cell_type": "markdown",
      "metadata": {
        "id": "view-in-github",
        "colab_type": "text"
      },
      "source": [
        "<a href=\"https://colab.research.google.com/github/gadamsravya/ATCC/blob/master/Untitled0.ipynb\" target=\"_parent\"><img src=\"https://colab.research.google.com/assets/colab-badge.svg\" alt=\"Open In Colab\"/></a>"
      ]
    },
    {
      "cell_type": "code",
      "metadata": {
        "id": "RtvRvHgzEe-W",
        "colab_type": "code",
        "colab": {}
      },
      "source": [
        "import pandas as pd"
      ],
      "execution_count": null,
      "outputs": []
    },
    {
      "cell_type": "code",
      "metadata": {
        "id": "LiiG27awE-Yl",
        "colab_type": "code",
        "colab": {
          "base_uri": "https://localhost:8080/",
          "height": 87
        },
        "outputId": "7e8072f8-e643-4f5c-c6fc-545ab0a0212a"
      },
      "source": [
        "file_path = \"/content/KOT_Data_Modified.csv\"\n",
        "df = pd.read_csv(file_path)\n",
        "print(df.columns)"
      ],
      "execution_count": null,
      "outputs": [
        {
          "output_type": "stream",
          "text": [
            "Index(['KOT#', 'RestaurantName', 'Classification', 'KOT Time', 'Tbl/Room#',\n",
            "       'ItemName', 'Rate', 'Quantity', 'Total Amount', 'Bill No',\n",
            "       'RestaurantName.1', 'Classification.1', 'Type', 'ClassName'],\n",
            "      dtype='object')\n"
          ],
          "name": "stdout"
        }
      ]
    },
    {
      "cell_type": "code",
      "metadata": {
        "id": "h_pfD8P9HiVl",
        "colab_type": "code",
        "colab": {
          "base_uri": "https://localhost:8080/",
          "height": 263
        },
        "outputId": "22071098-198c-40b6-b3ad-e4341ef97d79"
      },
      "source": [
        "print(df.head)"
      ],
      "execution_count": null,
      "outputs": [
        {
          "output_type": "stream",
          "text": [
            "<bound method NDFrame.head of       KOT# RestaurantName Classification  ...  Classification.1 Type ClassName\n",
            "0    160.0  Home Delivery           FOOD  ...               NaN  NaN       NaN\n",
            "1    160.0  Home Delivery           FOOD  ...               NaN  NaN       NaN\n",
            "2    161.0  Home Delivery           FOOD  ...               NaN  NaN       NaN\n",
            "3    161.0  Home Delivery           FOOD  ...              Food    I       1.0\n",
            "4    162.0  Home Delivery           FOOD  ...              Food    I       1.0\n",
            "..     ...            ...            ...  ...               ...  ...       ...\n",
            "983    NaN            NaN            NaN  ...               NaN  NaN       NaN\n",
            "984    NaN            NaN            NaN  ...               NaN  NaN       NaN\n",
            "985    NaN            NaN            NaN  ...               NaN  NaN       NaN\n",
            "986    NaN            NaN            NaN  ...               NaN  NaN       NaN\n",
            "987    NaN            NaN            NaN  ...               NaN  NaN       NaN\n",
            "\n",
            "[988 rows x 14 columns]>\n"
          ],
          "name": "stdout"
        }
      ]
    },
    {
      "cell_type": "code",
      "metadata": {
        "id": "cZOW92RlPRW0",
        "colab_type": "code",
        "colab": {}
      },
      "source": [
        "column_selected = ['KOT#', 'RestaurantName', 'Classification', 'ItemName', 'Rate', 'Quantity']\n",
        "data = df[column_selected]\n",
        "data = data.dropna()"
      ],
      "execution_count": null,
      "outputs": []
    },
    {
      "cell_type": "code",
      "metadata": {
        "id": "c2CAR8mQztxX",
        "colab_type": "code",
        "colab": {}
      },
      "source": [
        ""
      ],
      "execution_count": null,
      "outputs": []
    }
  ]
}